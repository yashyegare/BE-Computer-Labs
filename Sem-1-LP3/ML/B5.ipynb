{
 "cells": [
  {
   "cell_type": "markdown",
   "id": "dc1ff9fd",
   "metadata": {},
   "source": [
    "# Importing Libraries"
   ]
  },
  {
   "cell_type": "code",
   "execution_count": 1,
   "id": "a75d058e",
   "metadata": {},
   "outputs": [
    {
     "name": "stderr",
     "output_type": "stream",
     "text": [
      "c:\\Users\\yashy\\anaconda3\\lib\\site-packages\\scipy\\__init__.py:146: UserWarning: A NumPy version >=1.16.5 and <1.23.0 is required for this version of SciPy (detected version 1.26.1\n",
      "  warnings.warn(f\"A NumPy version >={np_minversion} and <{np_maxversion}\"\n"
     ]
    }
   ],
   "source": [
    "import pandas as pd\n",
    "import numpy as np\n",
    "\n",
    "import seaborn as sns\n",
    "import matplotlib.pyplot as plt\n",
    "\n",
    "from sklearn.model_selection import train_test_split, GridSearchCV\n",
    "from sklearn.preprocessing import StandardScaler\n",
    "from sklearn.neighbors import KNeighborsClassifier\n",
    "from sklearn.metrics import confusion_matrix, classification_report, accuracy_score\n",
    "from sklearn import preprocessing\n",
    "\n",
    "import warnings\n",
    "warnings.filterwarnings('ignore')"
   ]
  },
  {
   "cell_type": "markdown",
   "id": "f37276c4",
   "metadata": {},
   "source": [
    "# Loading the Database"
   ]
  },
  {
   "cell_type": "code",
   "execution_count": 2,
   "id": "60980daf",
   "metadata": {},
   "outputs": [],
   "source": [
    "df = pd.read_csv('./data/diabetes.csv')"
   ]
  },
  {
   "cell_type": "code",
   "execution_count": 3,
   "id": "8b58fd45",
   "metadata": {},
   "outputs": [
    {
     "data": {
      "text/plain": [
       "(768, 9)"
      ]
     },
     "execution_count": 3,
     "metadata": {},
     "output_type": "execute_result"
    }
   ],
   "source": [
    "df.shape"
   ]
  },
  {
   "cell_type": "code",
   "execution_count": 4,
   "id": "c0ea962e",
   "metadata": {},
   "outputs": [
    {
     "data": {
      "text/html": [
       "<div>\n",
       "<style scoped>\n",
       "    .dataframe tbody tr th:only-of-type {\n",
       "        vertical-align: middle;\n",
       "    }\n",
       "\n",
       "    .dataframe tbody tr th {\n",
       "        vertical-align: top;\n",
       "    }\n",
       "\n",
       "    .dataframe thead th {\n",
       "        text-align: right;\n",
       "    }\n",
       "</style>\n",
       "<table border=\"1\" class=\"dataframe\">\n",
       "  <thead>\n",
       "    <tr style=\"text-align: right;\">\n",
       "      <th></th>\n",
       "      <th>Pregnancies</th>\n",
       "      <th>Glucose</th>\n",
       "      <th>BloodPressure</th>\n",
       "      <th>SkinThickness</th>\n",
       "      <th>Insulin</th>\n",
       "      <th>BMI</th>\n",
       "      <th>Pedigree</th>\n",
       "      <th>Age</th>\n",
       "      <th>Outcome</th>\n",
       "    </tr>\n",
       "  </thead>\n",
       "  <tbody>\n",
       "    <tr>\n",
       "      <th>0</th>\n",
       "      <td>6</td>\n",
       "      <td>148</td>\n",
       "      <td>72</td>\n",
       "      <td>35</td>\n",
       "      <td>0</td>\n",
       "      <td>33.6</td>\n",
       "      <td>0.627</td>\n",
       "      <td>50</td>\n",
       "      <td>1</td>\n",
       "    </tr>\n",
       "    <tr>\n",
       "      <th>1</th>\n",
       "      <td>1</td>\n",
       "      <td>85</td>\n",
       "      <td>66</td>\n",
       "      <td>29</td>\n",
       "      <td>0</td>\n",
       "      <td>26.6</td>\n",
       "      <td>0.351</td>\n",
       "      <td>31</td>\n",
       "      <td>0</td>\n",
       "    </tr>\n",
       "    <tr>\n",
       "      <th>2</th>\n",
       "      <td>8</td>\n",
       "      <td>183</td>\n",
       "      <td>64</td>\n",
       "      <td>0</td>\n",
       "      <td>0</td>\n",
       "      <td>23.3</td>\n",
       "      <td>0.672</td>\n",
       "      <td>32</td>\n",
       "      <td>1</td>\n",
       "    </tr>\n",
       "  </tbody>\n",
       "</table>\n",
       "</div>"
      ],
      "text/plain": [
       "   Pregnancies  Glucose  BloodPressure  SkinThickness  Insulin   BMI  \\\n",
       "0            6      148             72             35        0  33.6   \n",
       "1            1       85             66             29        0  26.6   \n",
       "2            8      183             64              0        0  23.3   \n",
       "\n",
       "   Pedigree  Age  Outcome  \n",
       "0     0.627   50        1  \n",
       "1     0.351   31        0  \n",
       "2     0.672   32        1  "
      ]
     },
     "execution_count": 4,
     "metadata": {},
     "output_type": "execute_result"
    }
   ],
   "source": [
    "df.head(3)"
   ]
  },
  {
   "cell_type": "code",
   "execution_count": 5,
   "id": "d62cf03d",
   "metadata": {},
   "outputs": [
    {
     "data": {
      "text/html": [
       "<div>\n",
       "<style scoped>\n",
       "    .dataframe tbody tr th:only-of-type {\n",
       "        vertical-align: middle;\n",
       "    }\n",
       "\n",
       "    .dataframe tbody tr th {\n",
       "        vertical-align: top;\n",
       "    }\n",
       "\n",
       "    .dataframe thead th {\n",
       "        text-align: right;\n",
       "    }\n",
       "</style>\n",
       "<table border=\"1\" class=\"dataframe\">\n",
       "  <thead>\n",
       "    <tr style=\"text-align: right;\">\n",
       "      <th></th>\n",
       "      <th>Pregnancies</th>\n",
       "      <th>Glucose</th>\n",
       "      <th>BloodPressure</th>\n",
       "      <th>SkinThickness</th>\n",
       "      <th>Insulin</th>\n",
       "      <th>BMI</th>\n",
       "      <th>Pedigree</th>\n",
       "      <th>Age</th>\n",
       "      <th>Outcome</th>\n",
       "    </tr>\n",
       "  </thead>\n",
       "  <tbody>\n",
       "    <tr>\n",
       "      <th>765</th>\n",
       "      <td>5</td>\n",
       "      <td>121</td>\n",
       "      <td>72</td>\n",
       "      <td>23</td>\n",
       "      <td>112</td>\n",
       "      <td>26.2</td>\n",
       "      <td>0.245</td>\n",
       "      <td>30</td>\n",
       "      <td>0</td>\n",
       "    </tr>\n",
       "    <tr>\n",
       "      <th>766</th>\n",
       "      <td>1</td>\n",
       "      <td>126</td>\n",
       "      <td>60</td>\n",
       "      <td>0</td>\n",
       "      <td>0</td>\n",
       "      <td>30.1</td>\n",
       "      <td>0.349</td>\n",
       "      <td>47</td>\n",
       "      <td>1</td>\n",
       "    </tr>\n",
       "    <tr>\n",
       "      <th>767</th>\n",
       "      <td>1</td>\n",
       "      <td>93</td>\n",
       "      <td>70</td>\n",
       "      <td>31</td>\n",
       "      <td>0</td>\n",
       "      <td>30.4</td>\n",
       "      <td>0.315</td>\n",
       "      <td>23</td>\n",
       "      <td>0</td>\n",
       "    </tr>\n",
       "  </tbody>\n",
       "</table>\n",
       "</div>"
      ],
      "text/plain": [
       "     Pregnancies  Glucose  BloodPressure  SkinThickness  Insulin   BMI  \\\n",
       "765            5      121             72             23      112  26.2   \n",
       "766            1      126             60              0        0  30.1   \n",
       "767            1       93             70             31        0  30.4   \n",
       "\n",
       "     Pedigree  Age  Outcome  \n",
       "765     0.245   30        0  \n",
       "766     0.349   47        1  \n",
       "767     0.315   23        0  "
      ]
     },
     "execution_count": 5,
     "metadata": {},
     "output_type": "execute_result"
    }
   ],
   "source": [
    "df.tail(3)"
   ]
  },
  {
   "cell_type": "code",
   "execution_count": 6,
   "id": "2f391287",
   "metadata": {},
   "outputs": [
    {
     "name": "stdout",
     "output_type": "stream",
     "text": [
      "<class 'pandas.core.frame.DataFrame'>\n",
      "RangeIndex: 768 entries, 0 to 767\n",
      "Data columns (total 9 columns):\n",
      " #   Column         Non-Null Count  Dtype  \n",
      "---  ------         --------------  -----  \n",
      " 0   Pregnancies    768 non-null    int64  \n",
      " 1   Glucose        768 non-null    int64  \n",
      " 2   BloodPressure  768 non-null    int64  \n",
      " 3   SkinThickness  768 non-null    int64  \n",
      " 4   Insulin        768 non-null    int64  \n",
      " 5   BMI            768 non-null    float64\n",
      " 6   Pedigree       768 non-null    float64\n",
      " 7   Age            768 non-null    int64  \n",
      " 8   Outcome        768 non-null    int64  \n",
      "dtypes: float64(2), int64(7)\n",
      "memory usage: 54.1 KB\n"
     ]
    }
   ],
   "source": [
    "df.info()"
   ]
  },
  {
   "cell_type": "code",
   "execution_count": 7,
   "id": "1603e662",
   "metadata": {},
   "outputs": [
    {
     "data": {
      "text/html": [
       "<div>\n",
       "<style scoped>\n",
       "    .dataframe tbody tr th:only-of-type {\n",
       "        vertical-align: middle;\n",
       "    }\n",
       "\n",
       "    .dataframe tbody tr th {\n",
       "        vertical-align: top;\n",
       "    }\n",
       "\n",
       "    .dataframe thead th {\n",
       "        text-align: right;\n",
       "    }\n",
       "</style>\n",
       "<table border=\"1\" class=\"dataframe\">\n",
       "  <thead>\n",
       "    <tr style=\"text-align: right;\">\n",
       "      <th></th>\n",
       "      <th>Pregnancies</th>\n",
       "      <th>Glucose</th>\n",
       "      <th>BloodPressure</th>\n",
       "      <th>SkinThickness</th>\n",
       "      <th>Insulin</th>\n",
       "      <th>BMI</th>\n",
       "      <th>Pedigree</th>\n",
       "      <th>Age</th>\n",
       "      <th>Outcome</th>\n",
       "    </tr>\n",
       "  </thead>\n",
       "  <tbody>\n",
       "    <tr>\n",
       "      <th>count</th>\n",
       "      <td>768.000000</td>\n",
       "      <td>768.000000</td>\n",
       "      <td>768.000000</td>\n",
       "      <td>768.000000</td>\n",
       "      <td>768.000000</td>\n",
       "      <td>768.000000</td>\n",
       "      <td>768.000000</td>\n",
       "      <td>768.000000</td>\n",
       "      <td>768.000000</td>\n",
       "    </tr>\n",
       "    <tr>\n",
       "      <th>mean</th>\n",
       "      <td>3.845052</td>\n",
       "      <td>120.894531</td>\n",
       "      <td>69.105469</td>\n",
       "      <td>20.536458</td>\n",
       "      <td>79.799479</td>\n",
       "      <td>31.992578</td>\n",
       "      <td>0.471876</td>\n",
       "      <td>33.240885</td>\n",
       "      <td>0.348958</td>\n",
       "    </tr>\n",
       "    <tr>\n",
       "      <th>std</th>\n",
       "      <td>3.369578</td>\n",
       "      <td>31.972618</td>\n",
       "      <td>19.355807</td>\n",
       "      <td>15.952218</td>\n",
       "      <td>115.244002</td>\n",
       "      <td>7.884160</td>\n",
       "      <td>0.331329</td>\n",
       "      <td>11.760232</td>\n",
       "      <td>0.476951</td>\n",
       "    </tr>\n",
       "    <tr>\n",
       "      <th>min</th>\n",
       "      <td>0.000000</td>\n",
       "      <td>0.000000</td>\n",
       "      <td>0.000000</td>\n",
       "      <td>0.000000</td>\n",
       "      <td>0.000000</td>\n",
       "      <td>0.000000</td>\n",
       "      <td>0.078000</td>\n",
       "      <td>21.000000</td>\n",
       "      <td>0.000000</td>\n",
       "    </tr>\n",
       "    <tr>\n",
       "      <th>25%</th>\n",
       "      <td>1.000000</td>\n",
       "      <td>99.000000</td>\n",
       "      <td>62.000000</td>\n",
       "      <td>0.000000</td>\n",
       "      <td>0.000000</td>\n",
       "      <td>27.300000</td>\n",
       "      <td>0.243750</td>\n",
       "      <td>24.000000</td>\n",
       "      <td>0.000000</td>\n",
       "    </tr>\n",
       "    <tr>\n",
       "      <th>50%</th>\n",
       "      <td>3.000000</td>\n",
       "      <td>117.000000</td>\n",
       "      <td>72.000000</td>\n",
       "      <td>23.000000</td>\n",
       "      <td>30.500000</td>\n",
       "      <td>32.000000</td>\n",
       "      <td>0.372500</td>\n",
       "      <td>29.000000</td>\n",
       "      <td>0.000000</td>\n",
       "    </tr>\n",
       "    <tr>\n",
       "      <th>75%</th>\n",
       "      <td>6.000000</td>\n",
       "      <td>140.250000</td>\n",
       "      <td>80.000000</td>\n",
       "      <td>32.000000</td>\n",
       "      <td>127.250000</td>\n",
       "      <td>36.600000</td>\n",
       "      <td>0.626250</td>\n",
       "      <td>41.000000</td>\n",
       "      <td>1.000000</td>\n",
       "    </tr>\n",
       "    <tr>\n",
       "      <th>max</th>\n",
       "      <td>17.000000</td>\n",
       "      <td>199.000000</td>\n",
       "      <td>122.000000</td>\n",
       "      <td>99.000000</td>\n",
       "      <td>846.000000</td>\n",
       "      <td>67.100000</td>\n",
       "      <td>2.420000</td>\n",
       "      <td>81.000000</td>\n",
       "      <td>1.000000</td>\n",
       "    </tr>\n",
       "  </tbody>\n",
       "</table>\n",
       "</div>"
      ],
      "text/plain": [
       "       Pregnancies     Glucose  BloodPressure  SkinThickness     Insulin  \\\n",
       "count   768.000000  768.000000     768.000000     768.000000  768.000000   \n",
       "mean      3.845052  120.894531      69.105469      20.536458   79.799479   \n",
       "std       3.369578   31.972618      19.355807      15.952218  115.244002   \n",
       "min       0.000000    0.000000       0.000000       0.000000    0.000000   \n",
       "25%       1.000000   99.000000      62.000000       0.000000    0.000000   \n",
       "50%       3.000000  117.000000      72.000000      23.000000   30.500000   \n",
       "75%       6.000000  140.250000      80.000000      32.000000  127.250000   \n",
       "max      17.000000  199.000000     122.000000      99.000000  846.000000   \n",
       "\n",
       "              BMI    Pedigree         Age     Outcome  \n",
       "count  768.000000  768.000000  768.000000  768.000000  \n",
       "mean    31.992578    0.471876   33.240885    0.348958  \n",
       "std      7.884160    0.331329   11.760232    0.476951  \n",
       "min      0.000000    0.078000   21.000000    0.000000  \n",
       "25%     27.300000    0.243750   24.000000    0.000000  \n",
       "50%     32.000000    0.372500   29.000000    0.000000  \n",
       "75%     36.600000    0.626250   41.000000    1.000000  \n",
       "max     67.100000    2.420000   81.000000    1.000000  "
      ]
     },
     "execution_count": 7,
     "metadata": {},
     "output_type": "execute_result"
    }
   ],
   "source": [
    "df.describe()"
   ]
  },
  {
   "cell_type": "code",
   "execution_count": 8,
   "id": "7b706a53",
   "metadata": {},
   "outputs": [
    {
     "data": {
      "text/plain": [
       "Pregnancies        int64\n",
       "Glucose            int64\n",
       "BloodPressure      int64\n",
       "SkinThickness      int64\n",
       "Insulin            int64\n",
       "BMI              float64\n",
       "Pedigree         float64\n",
       "Age                int64\n",
       "Outcome            int64\n",
       "dtype: object"
      ]
     },
     "execution_count": 8,
     "metadata": {},
     "output_type": "execute_result"
    }
   ],
   "source": [
    "df.dtypes"
   ]
  },
  {
   "cell_type": "code",
   "execution_count": 9,
   "id": "ad531889",
   "metadata": {},
   "outputs": [
    {
     "data": {
      "text/plain": [
       "Index(['Pregnancies', 'Glucose', 'BloodPressure', 'SkinThickness', 'Insulin',\n",
       "       'BMI', 'Pedigree', 'Age', 'Outcome'],\n",
       "      dtype='object')"
      ]
     },
     "execution_count": 9,
     "metadata": {},
     "output_type": "execute_result"
    }
   ],
   "source": [
    "df.columns"
   ]
  },
  {
   "cell_type": "markdown",
   "id": "dd287d28",
   "metadata": {},
   "source": [
    "# Cleaning"
   ]
  },
  {
   "cell_type": "code",
   "execution_count": 10,
   "id": "fb232e72",
   "metadata": {},
   "outputs": [
    {
     "data": {
      "text/html": [
       "<style type=\"text/css\">\n",
       "#T_f5519_row0_col0, #T_f5519_row1_col1, #T_f5519_row2_col2, #T_f5519_row3_col3, #T_f5519_row4_col4, #T_f5519_row5_col5, #T_f5519_row6_col6, #T_f5519_row7_col7, #T_f5519_row8_col8 {\n",
       "  background-color: #00441b;\n",
       "  color: #f1f1f1;\n",
       "}\n",
       "#T_f5519_row0_col1 {\n",
       "  background-color: #ecf8fb;\n",
       "  color: #000000;\n",
       "}\n",
       "#T_f5519_row0_col2 {\n",
       "  background-color: #e8f6fa;\n",
       "  color: #000000;\n",
       "}\n",
       "#T_f5519_row0_col3, #T_f5519_row7_col4 {\n",
       "  background-color: #f3fafc;\n",
       "  color: #000000;\n",
       "}\n",
       "#T_f5519_row0_col4, #T_f5519_row0_col5, #T_f5519_row0_col6, #T_f5519_row2_col8, #T_f5519_row3_col0, #T_f5519_row3_col1, #T_f5519_row3_col7, #T_f5519_row6_col2, #T_f5519_row7_col3 {\n",
       "  background-color: #f7fcfd;\n",
       "  color: #000000;\n",
       "}\n",
       "#T_f5519_row0_col7 {\n",
       "  background-color: #4bb382;\n",
       "  color: #f1f1f1;\n",
       "}\n",
       "#T_f5519_row0_col8, #T_f5519_row1_col6 {\n",
       "  background-color: #ddf2f3;\n",
       "  color: #000000;\n",
       "}\n",
       "#T_f5519_row1_col0, #T_f5519_row8_col4 {\n",
       "  background-color: #d8f0ef;\n",
       "  color: #000000;\n",
       "}\n",
       "#T_f5519_row1_col2, #T_f5519_row6_col8 {\n",
       "  background-color: #e7f6f9;\n",
       "  color: #000000;\n",
       "}\n",
       "#T_f5519_row1_col3 {\n",
       "  background-color: #dff3f5;\n",
       "  color: #000000;\n",
       "}\n",
       "#T_f5519_row1_col4 {\n",
       "  background-color: #98d8c9;\n",
       "  color: #000000;\n",
       "}\n",
       "#T_f5519_row1_col5, #T_f5519_row3_col6, #T_f5519_row4_col6 {\n",
       "  background-color: #d4efec;\n",
       "  color: #000000;\n",
       "}\n",
       "#T_f5519_row1_col7 {\n",
       "  background-color: #a8ded2;\n",
       "  color: #000000;\n",
       "}\n",
       "#T_f5519_row1_col8 {\n",
       "  background-color: #84cfb9;\n",
       "  color: #000000;\n",
       "}\n",
       "#T_f5519_row2_col0, #T_f5519_row7_col2 {\n",
       "  background-color: #d5efed;\n",
       "  color: #000000;\n",
       "}\n",
       "#T_f5519_row2_col1 {\n",
       "  background-color: #e9f7fa;\n",
       "  color: #000000;\n",
       "}\n",
       "#T_f5519_row2_col3 {\n",
       "  background-color: #bde6de;\n",
       "  color: #000000;\n",
       "}\n",
       "#T_f5519_row2_col4 {\n",
       "  background-color: #e0f3f5;\n",
       "  color: #000000;\n",
       "}\n",
       "#T_f5519_row2_col5, #T_f5519_row6_col3 {\n",
       "  background-color: #c5e9e2;\n",
       "  color: #000000;\n",
       "}\n",
       "#T_f5519_row2_col6, #T_f5519_row4_col8 {\n",
       "  background-color: #edf8fb;\n",
       "  color: #000000;\n",
       "}\n",
       "#T_f5519_row2_col7 {\n",
       "  background-color: #b0e1d6;\n",
       "  color: #000000;\n",
       "}\n",
       "#T_f5519_row3_col2, #T_f5519_row5_col1 {\n",
       "  background-color: #dbf2f2;\n",
       "  color: #000000;\n",
       "}\n",
       "#T_f5519_row3_col4 {\n",
       "  background-color: #70c6ac;\n",
       "  color: #000000;\n",
       "}\n",
       "#T_f5519_row3_col5 {\n",
       "  background-color: #97d7c7;\n",
       "  color: #000000;\n",
       "}\n",
       "#T_f5519_row3_col8, #T_f5519_row4_col0 {\n",
       "  background-color: #f6fcfd;\n",
       "  color: #000000;\n",
       "}\n",
       "#T_f5519_row4_col1 {\n",
       "  background-color: #bce6dd;\n",
       "  color: #000000;\n",
       "}\n",
       "#T_f5519_row4_col2 {\n",
       "  background-color: #f0f9fb;\n",
       "  color: #000000;\n",
       "}\n",
       "#T_f5519_row4_col3 {\n",
       "  background-color: #68c3a6;\n",
       "  color: #000000;\n",
       "}\n",
       "#T_f5519_row4_col5 {\n",
       "  background-color: #daf1f1;\n",
       "  color: #000000;\n",
       "}\n",
       "#T_f5519_row4_col7, #T_f5519_row7_col6 {\n",
       "  background-color: #eef8fb;\n",
       "  color: #000000;\n",
       "}\n",
       "#T_f5519_row5_col0 {\n",
       "  background-color: #eaf7fa;\n",
       "  color: #000000;\n",
       "}\n",
       "#T_f5519_row5_col2, #T_f5519_row5_col4 {\n",
       "  background-color: #ccece6;\n",
       "  color: #000000;\n",
       "}\n",
       "#T_f5519_row5_col3 {\n",
       "  background-color: #78cab1;\n",
       "  color: #000000;\n",
       "}\n",
       "#T_f5519_row5_col6, #T_f5519_row8_col3 {\n",
       "  background-color: #dcf2f2;\n",
       "  color: #000000;\n",
       "}\n",
       "#T_f5519_row5_col7 {\n",
       "  background-color: #e3f4f8;\n",
       "  color: #000000;\n",
       "}\n",
       "#T_f5519_row5_col8 {\n",
       "  background-color: #cdece7;\n",
       "  color: #000000;\n",
       "}\n",
       "#T_f5519_row6_col0 {\n",
       "  background-color: #f1fafc;\n",
       "  color: #000000;\n",
       "}\n",
       "#T_f5519_row6_col1 {\n",
       "  background-color: #ebf7fa;\n",
       "  color: #000000;\n",
       "}\n",
       "#T_f5519_row6_col4 {\n",
       "  background-color: #ceede8;\n",
       "  color: #000000;\n",
       "}\n",
       "#T_f5519_row6_col5 {\n",
       "  background-color: #e5f5f9;\n",
       "  color: #000000;\n",
       "}\n",
       "#T_f5519_row6_col7 {\n",
       "  background-color: #e4f5f8;\n",
       "  color: #000000;\n",
       "}\n",
       "#T_f5519_row7_col0 {\n",
       "  background-color: #4eb586;\n",
       "  color: #f1f1f1;\n",
       "}\n",
       "#T_f5519_row7_col1 {\n",
       "  background-color: #d3eeeb;\n",
       "  color: #000000;\n",
       "}\n",
       "#T_f5519_row7_col5 {\n",
       "  background-color: #f5fbfc;\n",
       "  color: #000000;\n",
       "}\n",
       "#T_f5519_row7_col8 {\n",
       "  background-color: #d9f1f0;\n",
       "  color: #000000;\n",
       "}\n",
       "#T_f5519_row8_col0, #T_f5519_row8_col5 {\n",
       "  background-color: #c0e7df;\n",
       "  color: #000000;\n",
       "}\n",
       "#T_f5519_row8_col1 {\n",
       "  background-color: #80cdb7;\n",
       "  color: #000000;\n",
       "}\n",
       "#T_f5519_row8_col2 {\n",
       "  background-color: #f4fbfc;\n",
       "  color: #000000;\n",
       "}\n",
       "#T_f5519_row8_col6 {\n",
       "  background-color: #d6f0ee;\n",
       "  color: #000000;\n",
       "}\n",
       "#T_f5519_row8_col7 {\n",
       "  background-color: #b2e2d7;\n",
       "  color: #000000;\n",
       "}\n",
       "</style>\n",
       "<table id=\"T_f5519\">\n",
       "  <thead>\n",
       "    <tr>\n",
       "      <th class=\"blank level0\" >&nbsp;</th>\n",
       "      <th id=\"T_f5519_level0_col0\" class=\"col_heading level0 col0\" >Pregnancies</th>\n",
       "      <th id=\"T_f5519_level0_col1\" class=\"col_heading level0 col1\" >Glucose</th>\n",
       "      <th id=\"T_f5519_level0_col2\" class=\"col_heading level0 col2\" >BloodPressure</th>\n",
       "      <th id=\"T_f5519_level0_col3\" class=\"col_heading level0 col3\" >SkinThickness</th>\n",
       "      <th id=\"T_f5519_level0_col4\" class=\"col_heading level0 col4\" >Insulin</th>\n",
       "      <th id=\"T_f5519_level0_col5\" class=\"col_heading level0 col5\" >BMI</th>\n",
       "      <th id=\"T_f5519_level0_col6\" class=\"col_heading level0 col6\" >Pedigree</th>\n",
       "      <th id=\"T_f5519_level0_col7\" class=\"col_heading level0 col7\" >Age</th>\n",
       "      <th id=\"T_f5519_level0_col8\" class=\"col_heading level0 col8\" >Outcome</th>\n",
       "    </tr>\n",
       "  </thead>\n",
       "  <tbody>\n",
       "    <tr>\n",
       "      <th id=\"T_f5519_level0_row0\" class=\"row_heading level0 row0\" >Pregnancies</th>\n",
       "      <td id=\"T_f5519_row0_col0\" class=\"data row0 col0\" >1.000000</td>\n",
       "      <td id=\"T_f5519_row0_col1\" class=\"data row0 col1\" >0.129459</td>\n",
       "      <td id=\"T_f5519_row0_col2\" class=\"data row0 col2\" >0.141282</td>\n",
       "      <td id=\"T_f5519_row0_col3\" class=\"data row0 col3\" >-0.081672</td>\n",
       "      <td id=\"T_f5519_row0_col4\" class=\"data row0 col4\" >-0.073535</td>\n",
       "      <td id=\"T_f5519_row0_col5\" class=\"data row0 col5\" >0.017683</td>\n",
       "      <td id=\"T_f5519_row0_col6\" class=\"data row0 col6\" >-0.033523</td>\n",
       "      <td id=\"T_f5519_row0_col7\" class=\"data row0 col7\" >0.544341</td>\n",
       "      <td id=\"T_f5519_row0_col8\" class=\"data row0 col8\" >0.221898</td>\n",
       "    </tr>\n",
       "    <tr>\n",
       "      <th id=\"T_f5519_level0_row1\" class=\"row_heading level0 row1\" >Glucose</th>\n",
       "      <td id=\"T_f5519_row1_col0\" class=\"data row1 col0\" >0.129459</td>\n",
       "      <td id=\"T_f5519_row1_col1\" class=\"data row1 col1\" >1.000000</td>\n",
       "      <td id=\"T_f5519_row1_col2\" class=\"data row1 col2\" >0.152590</td>\n",
       "      <td id=\"T_f5519_row1_col3\" class=\"data row1 col3\" >0.057328</td>\n",
       "      <td id=\"T_f5519_row1_col4\" class=\"data row1 col4\" >0.331357</td>\n",
       "      <td id=\"T_f5519_row1_col5\" class=\"data row1 col5\" >0.221071</td>\n",
       "      <td id=\"T_f5519_row1_col6\" class=\"data row1 col6\" >0.137337</td>\n",
       "      <td id=\"T_f5519_row1_col7\" class=\"data row1 col7\" >0.263514</td>\n",
       "      <td id=\"T_f5519_row1_col8\" class=\"data row1 col8\" >0.466581</td>\n",
       "    </tr>\n",
       "    <tr>\n",
       "      <th id=\"T_f5519_level0_row2\" class=\"row_heading level0 row2\" >BloodPressure</th>\n",
       "      <td id=\"T_f5519_row2_col0\" class=\"data row2 col0\" >0.141282</td>\n",
       "      <td id=\"T_f5519_row2_col1\" class=\"data row2 col1\" >0.152590</td>\n",
       "      <td id=\"T_f5519_row2_col2\" class=\"data row2 col2\" >1.000000</td>\n",
       "      <td id=\"T_f5519_row2_col3\" class=\"data row2 col3\" >0.207371</td>\n",
       "      <td id=\"T_f5519_row2_col4\" class=\"data row2 col4\" >0.088933</td>\n",
       "      <td id=\"T_f5519_row2_col5\" class=\"data row2 col5\" >0.281805</td>\n",
       "      <td id=\"T_f5519_row2_col6\" class=\"data row2 col6\" >0.041265</td>\n",
       "      <td id=\"T_f5519_row2_col7\" class=\"data row2 col7\" >0.239528</td>\n",
       "      <td id=\"T_f5519_row2_col8\" class=\"data row2 col8\" >0.065068</td>\n",
       "    </tr>\n",
       "    <tr>\n",
       "      <th id=\"T_f5519_level0_row3\" class=\"row_heading level0 row3\" >SkinThickness</th>\n",
       "      <td id=\"T_f5519_row3_col0\" class=\"data row3 col0\" >-0.081672</td>\n",
       "      <td id=\"T_f5519_row3_col1\" class=\"data row3 col1\" >0.057328</td>\n",
       "      <td id=\"T_f5519_row3_col2\" class=\"data row3 col2\" >0.207371</td>\n",
       "      <td id=\"T_f5519_row3_col3\" class=\"data row3 col3\" >1.000000</td>\n",
       "      <td id=\"T_f5519_row3_col4\" class=\"data row3 col4\" >0.436783</td>\n",
       "      <td id=\"T_f5519_row3_col5\" class=\"data row3 col5\" >0.392573</td>\n",
       "      <td id=\"T_f5519_row3_col6\" class=\"data row3 col6\" >0.183928</td>\n",
       "      <td id=\"T_f5519_row3_col7\" class=\"data row3 col7\" >-0.113970</td>\n",
       "      <td id=\"T_f5519_row3_col8\" class=\"data row3 col8\" >0.074752</td>\n",
       "    </tr>\n",
       "    <tr>\n",
       "      <th id=\"T_f5519_level0_row4\" class=\"row_heading level0 row4\" >Insulin</th>\n",
       "      <td id=\"T_f5519_row4_col0\" class=\"data row4 col0\" >-0.073535</td>\n",
       "      <td id=\"T_f5519_row4_col1\" class=\"data row4 col1\" >0.331357</td>\n",
       "      <td id=\"T_f5519_row4_col2\" class=\"data row4 col2\" >0.088933</td>\n",
       "      <td id=\"T_f5519_row4_col3\" class=\"data row4 col3\" >0.436783</td>\n",
       "      <td id=\"T_f5519_row4_col4\" class=\"data row4 col4\" >1.000000</td>\n",
       "      <td id=\"T_f5519_row4_col5\" class=\"data row4 col5\" >0.197859</td>\n",
       "      <td id=\"T_f5519_row4_col6\" class=\"data row4 col6\" >0.185071</td>\n",
       "      <td id=\"T_f5519_row4_col7\" class=\"data row4 col7\" >-0.042163</td>\n",
       "      <td id=\"T_f5519_row4_col8\" class=\"data row4 col8\" >0.130548</td>\n",
       "    </tr>\n",
       "    <tr>\n",
       "      <th id=\"T_f5519_level0_row5\" class=\"row_heading level0 row5\" >BMI</th>\n",
       "      <td id=\"T_f5519_row5_col0\" class=\"data row5 col0\" >0.017683</td>\n",
       "      <td id=\"T_f5519_row5_col1\" class=\"data row5 col1\" >0.221071</td>\n",
       "      <td id=\"T_f5519_row5_col2\" class=\"data row5 col2\" >0.281805</td>\n",
       "      <td id=\"T_f5519_row5_col3\" class=\"data row5 col3\" >0.392573</td>\n",
       "      <td id=\"T_f5519_row5_col4\" class=\"data row5 col4\" >0.197859</td>\n",
       "      <td id=\"T_f5519_row5_col5\" class=\"data row5 col5\" >1.000000</td>\n",
       "      <td id=\"T_f5519_row5_col6\" class=\"data row5 col6\" >0.140647</td>\n",
       "      <td id=\"T_f5519_row5_col7\" class=\"data row5 col7\" >0.036242</td>\n",
       "      <td id=\"T_f5519_row5_col8\" class=\"data row5 col8\" >0.292695</td>\n",
       "    </tr>\n",
       "    <tr>\n",
       "      <th id=\"T_f5519_level0_row6\" class=\"row_heading level0 row6\" >Pedigree</th>\n",
       "      <td id=\"T_f5519_row6_col0\" class=\"data row6 col0\" >-0.033523</td>\n",
       "      <td id=\"T_f5519_row6_col1\" class=\"data row6 col1\" >0.137337</td>\n",
       "      <td id=\"T_f5519_row6_col2\" class=\"data row6 col2\" >0.041265</td>\n",
       "      <td id=\"T_f5519_row6_col3\" class=\"data row6 col3\" >0.183928</td>\n",
       "      <td id=\"T_f5519_row6_col4\" class=\"data row6 col4\" >0.185071</td>\n",
       "      <td id=\"T_f5519_row6_col5\" class=\"data row6 col5\" >0.140647</td>\n",
       "      <td id=\"T_f5519_row6_col6\" class=\"data row6 col6\" >1.000000</td>\n",
       "      <td id=\"T_f5519_row6_col7\" class=\"data row6 col7\" >0.033561</td>\n",
       "      <td id=\"T_f5519_row6_col8\" class=\"data row6 col8\" >0.173844</td>\n",
       "    </tr>\n",
       "    <tr>\n",
       "      <th id=\"T_f5519_level0_row7\" class=\"row_heading level0 row7\" >Age</th>\n",
       "      <td id=\"T_f5519_row7_col0\" class=\"data row7 col0\" >0.544341</td>\n",
       "      <td id=\"T_f5519_row7_col1\" class=\"data row7 col1\" >0.263514</td>\n",
       "      <td id=\"T_f5519_row7_col2\" class=\"data row7 col2\" >0.239528</td>\n",
       "      <td id=\"T_f5519_row7_col3\" class=\"data row7 col3\" >-0.113970</td>\n",
       "      <td id=\"T_f5519_row7_col4\" class=\"data row7 col4\" >-0.042163</td>\n",
       "      <td id=\"T_f5519_row7_col5\" class=\"data row7 col5\" >0.036242</td>\n",
       "      <td id=\"T_f5519_row7_col6\" class=\"data row7 col6\" >0.033561</td>\n",
       "      <td id=\"T_f5519_row7_col7\" class=\"data row7 col7\" >1.000000</td>\n",
       "      <td id=\"T_f5519_row7_col8\" class=\"data row7 col8\" >0.238356</td>\n",
       "    </tr>\n",
       "    <tr>\n",
       "      <th id=\"T_f5519_level0_row8\" class=\"row_heading level0 row8\" >Outcome</th>\n",
       "      <td id=\"T_f5519_row8_col0\" class=\"data row8 col0\" >0.221898</td>\n",
       "      <td id=\"T_f5519_row8_col1\" class=\"data row8 col1\" >0.466581</td>\n",
       "      <td id=\"T_f5519_row8_col2\" class=\"data row8 col2\" >0.065068</td>\n",
       "      <td id=\"T_f5519_row8_col3\" class=\"data row8 col3\" >0.074752</td>\n",
       "      <td id=\"T_f5519_row8_col4\" class=\"data row8 col4\" >0.130548</td>\n",
       "      <td id=\"T_f5519_row8_col5\" class=\"data row8 col5\" >0.292695</td>\n",
       "      <td id=\"T_f5519_row8_col6\" class=\"data row8 col6\" >0.173844</td>\n",
       "      <td id=\"T_f5519_row8_col7\" class=\"data row8 col7\" >0.238356</td>\n",
       "      <td id=\"T_f5519_row8_col8\" class=\"data row8 col8\" >1.000000</td>\n",
       "    </tr>\n",
       "  </tbody>\n",
       "</table>\n"
      ],
      "text/plain": [
       "<pandas.io.formats.style.Styler at 0x2b7c2bb2c10>"
      ]
     },
     "execution_count": 10,
     "metadata": {},
     "output_type": "execute_result"
    }
   ],
   "source": [
    "df.corr().style.background_gradient(cmap='BuGn')  # Correlation Matrix"
   ]
  },
  {
   "cell_type": "code",
   "execution_count": 11,
   "id": "f14fd92a",
   "metadata": {},
   "outputs": [],
   "source": [
    "df.drop(['BloodPressure', 'SkinThickness'], axis=1, inplace=True)  # Dropping irrelevant columns"
   ]
  },
  {
   "cell_type": "markdown",
   "id": "25f8d843",
   "metadata": {},
   "source": [
    "Dropping 'BloodPressure' and 'SkinThickness' columns because of their weak correlation with the 'outcome' variable"
   ]
  },
  {
   "cell_type": "code",
   "execution_count": 12,
   "id": "9cb6fe5c",
   "metadata": {
    "scrolled": true
   },
   "outputs": [
    {
     "data": {
      "text/plain": [
       "Pregnancies    0\n",
       "Glucose        0\n",
       "Insulin        0\n",
       "BMI            0\n",
       "Pedigree       0\n",
       "Age            0\n",
       "Outcome        0\n",
       "dtype: int64"
      ]
     },
     "execution_count": 12,
     "metadata": {},
     "output_type": "execute_result"
    }
   ],
   "source": [
    "df.isna().sum()"
   ]
  },
  {
   "cell_type": "markdown",
   "id": "c8eaf3eb",
   "metadata": {},
   "source": [
    "No null values"
   ]
  },
  {
   "cell_type": "markdown",
   "id": "6c8f37c9",
   "metadata": {},
   "source": [
    "# EDA"
   ]
  },
  {
   "cell_type": "code",
   "execution_count": 13,
   "id": "99cd31b8",
   "metadata": {},
   "outputs": [
    {
     "data": {
      "image/png": "[encoded data removed]",
      "text/plain": [
       "<Figure size 1440x1152 with 9 Axes>"
      ]
     },
     "metadata": {
      "needs_background": "light"
     },
     "output_type": "display_data"
    }
   ],
   "source": [
    "hist = df.hist(figsize=(20,16))  # Plotting Histograms\n",
    "plt.show()"
   ]
  },
  {
   "cell_type": "markdown",
   "id": "3699ca2b",
   "metadata": {},
   "source": [
    "# Separating the Features and the Labels"
   ]
  },
  {
   "cell_type": "code",
   "execution_count": 14,
   "id": "c7f95d19",
   "metadata": {},
   "outputs": [
    {
     "data": {
      "text/plain": [
       "((768, 6), (768,))"
      ]
     },
     "execution_count": 14,
     "metadata": {},
     "output_type": "execute_result"
    }
   ],
   "source": [
    "X=df.iloc[:, :df.shape[1]-1]\n",
    "\n",
    "y=df.iloc[:, -1]\n",
    "\n",
    "X.shape, y.shape"
   ]
  },
  {
   "cell_type": "markdown",
   "id": "85c50c98",
   "metadata": {},
   "source": [
    "# Splitting the Dataset"
   ]
  },
  {
   "cell_type": "code",
   "execution_count": 15,
   "id": "c6a80449",
   "metadata": {},
   "outputs": [],
   "source": [
    "X_train, X_test, y_train, y_test = train_test_split(X, y, test_size=0.2, random_state=0)"
   ]
  },
  {
   "cell_type": "markdown",
   "id": "cf5710de",
   "metadata": {},
   "source": [
    "# Scaling"
   ]
  },
  {
   "cell_type": "code",
   "execution_count": 16,
   "id": "8360b70d",
   "metadata": {},
   "outputs": [],
   "source": [
    "scaler = StandardScaler()\n",
    "\n",
    "X_train = scaler.fit_transform(X_train)\n",
    "X_test = scaler.transform(X_test)"
   ]
  },
  {
   "cell_type": "markdown",
   "id": "0e1e986b",
   "metadata": {},
   "source": [
    "This code is using the StandardScaler from scikit-learn to standardize (normalize) the feature data in a machine learning dataset, separately for the training and testing sets"
   ]
  },
  {
   "cell_type": "markdown",
   "id": "ff385af6",
   "metadata": {},
   "source": [
    "# KNN Model"
   ]
  },
  {
   "cell_type": "code",
   "execution_count": 17,
   "id": "4f51169b",
   "metadata": {},
   "outputs": [],
   "source": [
    "scores = []\n",
    "for k in range(1,21):\n",
    "    knn = KNeighborsClassifier(k).fit(X_train, y_train)  # Training mode for each value of k\n",
    "    scores.append(knn.score(X_train, y_train))  # Adding score of each k to scores list"
   ]
  },
  {
   "cell_type": "markdown",
   "id": "f0cb501f",
   "metadata": {},
   "source": [
    "This loop will tell us which k value is giving us best accuracy in the range (1-20)"
   ]
  },
  {
   "cell_type": "code",
   "execution_count": 18,
   "id": "a1db434b",
   "metadata": {
    "scrolled": false
   },
   "outputs": [
    {
     "data": {
      "image/png": "[encoded data removed]",
      "text/plain": [
       "<Figure size 432x288 with 1 Axes>"
      ]
     },
     "metadata": {
      "needs_background": "light"
     },
     "output_type": "display_data"
    }
   ],
   "source": [
    "plt.plot(np.arange(1,21), scores)  # Plotting: k vs score\n",
    "plt.show()"
   ]
  },
  {
   "cell_type": "markdown",
   "id": "e5921d5f",
   "metadata": {},
   "source": [
    "Observation : k = 3, gives the highest accuracy"
   ]
  },
  {
   "cell_type": "code",
   "execution_count": 19,
   "id": "ca842566",
   "metadata": {},
   "outputs": [],
   "source": [
    "def knn(X_train, X_test, y_train, y_test, k):  # Function to perform all tasks\n",
    "    \n",
    "    knn_model = KNeighborsClassifier(n_neighbors=k)  # KNN Model\n",
    "    \n",
    "    knn_model.fit(X_train, y_train)  # Training Model\n",
    "    y_pred=knn_model.predict(X_test) # Making predictions\n",
    "    \n",
    "    print(f\"Accuracy \\t: {accuracy_score(y_test, y_pred)}\")  # Accuracy\n",
    "    print()\n",
    "    \n",
    "    cm = confusion_matrix(y_test, y_pred)  # Confusion Matrix\n",
    "    print(\"Confusion Matrix\")\n",
    "    print(cm)\n",
    "    print()\n",
    "    \n",
    "    cr = classification_report(y_test, y_pred)  # Classification Report\n",
    "    print('Classification report : \\n', cr)"
   ]
  },
  {
   "cell_type": "markdown",
   "id": "827403d4",
   "metadata": {},
   "source": [
    "# Results "
   ]
  },
  {
   "cell_type": "code",
   "execution_count": 20,
   "id": "fb895837",
   "metadata": {},
   "outputs": [],
   "source": [
    "k = 3"
   ]
  },
  {
   "cell_type": "code",
   "execution_count": 21,
   "id": "b8238dfd",
   "metadata": {},
   "outputs": [
    {
     "name": "stdout",
     "output_type": "stream",
     "text": [
      "Accuracy \t: 0.7207792207792207\n",
      "\n",
      "Confusion Matrix\n",
      "[[85 22]\n",
      " [21 26]]\n",
      "\n",
      "Classification report : \n",
      "               precision    recall  f1-score   support\n",
      "\n",
      "           0       0.80      0.79      0.80       107\n",
      "           1       0.54      0.55      0.55        47\n",
      "\n",
      "    accuracy                           0.72       154\n",
      "   macro avg       0.67      0.67      0.67       154\n",
      "weighted avg       0.72      0.72      0.72       154\n",
      "\n"
     ]
    }
   ],
   "source": [
    "knn(X_train, X_test, y_train, y_test, k)  "
   ]
  },
  {
   "cell_type": "code",
   "execution_count": null,
   "id": "e87a87e7",
   "metadata": {},
   "outputs": [],
   "source": []
  }
 ],
 "metadata": {
  "kernelspec": {
   "display_name": "Python 3 (ipykernel)",
   "language": "python",
   "name": "python3"
  },
  "language_info": {
   "codemirror_mode": {
    "name": "ipython",
    "version": 3
   },
   "file_extension": ".py",
   "mimetype": "text/x-python",
   "name": "python",
   "nbconvert_exporter": "python",
   "pygments_lexer": "ipython3",
   "version": "3.9.18"
  }
 },
 "nbformat": 4,
 "nbformat_minor": 5
}
